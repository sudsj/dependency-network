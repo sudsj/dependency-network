{
 "cells": [
  {
   "cell_type": "code",
   "execution_count": 3,
   "metadata": {},
   "outputs": [
    {
     "name": "stdout",
     "output_type": "stream",
     "text": [
      "   Y16  Y15  Y14  Y13  Y12  Y11  Y10  Y9  Y8  Y7  Y6  Y5  Y4  Y3  Y2  Y1\n",
      "0    0    0    0    0    0    0    0   0   0   0   0   0   0   0   0   0\n",
      "1    0    0    0    1    0    1    1   1   1   1   0   1   1   0   0   1\n",
      "2    0    0    0    0    1    0    0   0   0   0   0   0   0   0   0   0\n",
      "3    0    1    1    1    1    1    1   1   1   1   1   1   1   1   1   1\n",
      "4    0    0    1    1    0    1    1   1   0   0   0   0   0   0   0   0\n",
      "(16181, 16)\n",
      "Optimal number of features : 10\n",
      "[ True  True  True False  True False  True False False False  True  True\n",
      "  True  True  True]\n"
     ]
    },
    {
     "data": {
      "text/plain": [
       "<Figure size 640x480 with 1 Axes>"
      ]
     },
     "metadata": {},
     "output_type": "display_data"
    }
   ],
   "source": [
    "import numpy as np\n",
    "import pandas as pd\n",
    "\n",
    "#importing data\n",
    "tspath = 'nltcs/nltcs.ts.data'\n",
    "tdata = pd.read_table(tspath, sep=',')\n",
    "print(tdata.head())\n",
    "print(tdata.shape)\n",
    "\n",
    "#now predicting y1 wrt others\n",
    "y = tdata.Y1\n",
    "# print(Y.describe)\n",
    "X = tdata.drop('Y1',axis=1)\n",
    "# print(X.head())\n",
    "import matplotlib.pyplot as plt\n",
    "from sklearn.svm import SVC\n",
    "from sklearn.model_selection import StratifiedKFold\n",
    "from sklearn.feature_selection import RFECV\n",
    "from sklearn.datasets import make_classification\n",
    "\n",
    "\n",
    "# Create the RFE object and compute a cross-validated score.\n",
    "svc = SVC(kernel=\"linear\")\n",
    "# The \"accuracy\" scoring is proportional to the number of correct\n",
    "# classifications\n",
    "rfecv = RFECV(estimator=svc, step=1, cv=StratifiedKFold(2),\n",
    "              scoring='accuracy')\n",
    "rfecv.fit(X, y)\n",
    "\n",
    "print(\"Optimal number of features : %d\" % rfecv.n_features_)\n",
    "print(rfecv.support_)\n",
    "# Plot number of features VS. cross-validation scores\n",
    "plt.figure()\n",
    "plt.xlabel(\"Number of features selected\")\n",
    "plt.ylabel(\"Cross validation score (nb of correct classifications)\")\n",
    "plt.plot(range(1, len(rfecv.grid_scores_) + 1), rfecv.grid_scores_)\n",
    "plt.show()"
   ]
  },
  {
   "cell_type": "code",
   "execution_count": 4,
   "metadata": {},
   "outputs": [
    {
     "name": "stdout",
     "output_type": "stream",
     "text": [
      "[ True  True  True False  True False  True False False False  True  True\n",
      "  True  True  True]\n"
     ]
    },
    {
     "data": {
      "text/plain": [
       "MLPClassifier(activation='relu', alpha=0.0001, batch_size='auto', beta_1=0.9,\n",
       "       beta_2=0.999, early_stopping=False, epsilon=1e-08,\n",
       "       hidden_layer_sizes=(30, 30), learning_rate='constant',\n",
       "       learning_rate_init=0.001, max_iter=200, momentum=0.9,\n",
       "       nesterovs_momentum=True, power_t=0.5, random_state=None,\n",
       "       shuffle=True, solver='adam', tol=0.0001, validation_fraction=0.1,\n",
       "       verbose=False, warm_start=False)"
      ]
     },
     "execution_count": 4,
     "metadata": {},
     "output_type": "execute_result"
    }
   ],
   "source": [
    "#Getting the best feature set\n",
    "print(rfecv.support_)\n",
    "#now using a neural network for classification\n",
    "from sklearn.neural_network import MLPClassifier\n",
    "clf = MLPClassifier(hidden_layer_sizes=(30,30))\n",
    "#using selected features\n",
    "X_sel = X[X.columns[rfecv.support_]]\n",
    "\n",
    "clf.fit(X_sel,y)\n"
   ]
  },
  {
   "cell_type": "code",
   "execution_count": 5,
   "metadata": {},
   "outputs": [],
   "source": [
    "#importing test data\n",
    "testpath = 'nltcs/nltcs.test.data'\n",
    "testdata = pd.read_table(testpath, sep=',')\n",
    "# print(testdata.head())\n",
    "# print(testdata.shape)\n",
    "\n",
    "#now predicting y1 wrt others\n",
    "ytest = testdata.Y1\n",
    "# print(ytest.describe)\n",
    "XTEST = testdata.drop('Y1',axis=1)\n",
    "XTsel = XTEST[XTEST.columns[rfecv.support_]]\n",
    "# print(XTEST.head())"
   ]
  },
  {
   "cell_type": "code",
   "execution_count": 6,
   "metadata": {},
   "outputs": [
    {
     "name": "stdout",
     "output_type": "stream",
     "text": [
      "             precision    recall  f1-score   support\n",
      "\n",
      "          0       0.97      0.97      0.97      2897\n",
      "          1       0.73      0.71      0.72       339\n",
      "\n",
      "avg / total       0.94      0.94      0.94      3236\n",
      "\n"
     ]
    }
   ],
   "source": [
    "from sklearn.metrics import classification_report,confusion_matrix\n",
    "predictions = clf.predict(XTsel)\n",
    "print(classification_report(ytest,predictions))\n"
   ]
  },
  {
   "cell_type": "code",
   "execution_count": 7,
   "metadata": {},
   "outputs": [
    {
     "name": "stdout",
     "output_type": "stream",
     "text": [
      "[[0.21701283 0.78298717]]\n",
      "[1]\n"
     ]
    }
   ],
   "source": [
    "#testing prediction probabilities\n",
    "print(clf.predict_proba(XTsel.iloc[[2]]))\n",
    "print(clf.predict(XTsel.iloc[[2]]))"
   ]
  },
  {
   "cell_type": "code",
   "execution_count": 15,
   "metadata": {},
   "outputs": [
    {
     "name": "stdout",
     "output_type": "stream",
     "text": [
      "[[0. 0. 0. ... 0. 0. 0.]\n",
      " [0. 0. 0. ... 0. 0. 1.]\n",
      " [0. 0. 0. ... 0. 1. 0.]\n",
      " ...\n",
      " [1. 1. 1. ... 1. 0. 1.]\n",
      " [1. 1. 1. ... 1. 1. 0.]\n",
      " [1. 1. 1. ... 1. 1. 1.]]\n"
     ]
    }
   ],
   "source": [
    "#now doing predictions for all of them from 1 to 16\n",
    "#for each var\n",
    "#trim data\n",
    "#make predictor\n",
    "#store values for all possible feature combinations\n",
    "allcomb = np.zeros(shape=(65536,16))\n",
    "for x in range(0, 65536):\n",
    "    b = '{0:016b}'.format(x)\n",
    "    for i in range(0,16):\n",
    "        allcomb[x][i] = int(b[i])\n",
    "print(allcomb)        \n",
    "# predicted probability values for each Y1 to Y16\n",
    "predictprob = np.zeros(shape=(65536,16))\n",
    "#for each var drop the columns of that var and only keep the selected featuers\n",
    "#then use the predictor for that var to get all possible probability values for that var\n",
    "#given the values of the rest"
   ]
  }
 ],
 "metadata": {
  "kernelspec": {
   "display_name": "Python 3",
   "language": "python",
   "name": "python3"
  },
  "language_info": {
   "codemirror_mode": {
    "name": "ipython",
    "version": 3
   },
   "file_extension": ".py",
   "mimetype": "text/x-python",
   "name": "python",
   "nbconvert_exporter": "python",
   "pygments_lexer": "ipython3",
   "version": "3.6.5"
  }
 },
 "nbformat": 4,
 "nbformat_minor": 2
}
